{
  "cells": [
    {
      "cell_type": "code",
      "execution_count": 1,
      "metadata": {
        "id": "L51gDtlPowvB"
      },
      "outputs": [],
      "source": [
        "import numpy as np\n",
        "import pandas as pd\n",
        "import matplotlib.pyplot as plt\n",
        "import scipy\n",
        "import math\n",
        "from sklearn.cluster import KMeans\n",
        "from sklearn.model_selection import train_test_split\n",
        "from sklearn.metrics import mean_absolute_error, mean_squared_error\n",
        "from helper_functions import *"
      ]
    },
    {
      "cell_type": "markdown",
      "metadata": {
        "id": "OXdUFK1TG73w"
      },
      "source": [
        "Load data"
      ]
    },
    {
      "cell_type": "code",
      "execution_count": 2,
      "metadata": {
        "colab": {
          "base_uri": "https://localhost:8080/"
        },
        "id": "hp6ReiG3BE1_",
        "outputId": "ca81a71e-861a-4cd3-b321-b88636430d0c"
      },
      "outputs": [
        {
          "name": "stdout",
          "output_type": "stream",
          "text": [
            "['unit_id', 'time_cycle', 'op_conditions_1', 'op_conditions_2', 'op_conditions_3', 'sensor_1', 'sensor_2', 'sensor_3', 'sensor_4', 'sensor_5', 'sensor_6', 'sensor_7', 'sensor_8', 'sensor_9', 'sensor_10', 'sensor_11', 'sensor_12', 'sensor_13', 'sensor_14', 'sensor_15', 'sensor_16', 'sensor_17', 'sensor_18', 'sensor_19', 'sensor_20', 'sensor_21']\n"
          ]
        }
      ],
      "source": [
        "# Create headers\n",
        "index_col_names=['unit_id','time_cycle']\n",
        "operat_set_col_names=['op_conditions_{}'.format(i) for i in range(1,4)]\n",
        "sensor_measure_col_names=['sensor_{}'.format(i) for i in range(1,22)]\n",
        "all_col=index_col_names+operat_set_col_names+sensor_measure_col_names\n",
        "print(all_col)"
      ]
    },
    {
      "cell_type": "code",
      "execution_count": 3,
      "metadata": {
        "colab": {
          "base_uri": "https://localhost:8080/",
          "height": 300
        },
        "id": "yfc-U-V62GiI",
        "outputId": "2128f39f-7d3c-464f-b164-89d61473ce31"
      },
      "outputs": [
        {
          "name": "stderr",
          "output_type": "stream",
          "text": [
            "/var/folders/gm/pvnntq692jd5ng0rtk5l0z9m0000gn/T/ipykernel_57098/230756806.py:2: FutureWarning: The 'delim_whitespace' keyword in pd.read_csv is deprecated and will be removed in a future version. Use ``sep='\\s+'`` instead\n",
            "  raw_train_df=pd.read_csv('Data/train_FD002.txt',delim_whitespace=True,names=all_col)\n"
          ]
        },
        {
          "data": {
            "text/html": [
              "<div>\n",
              "<style scoped>\n",
              "    .dataframe tbody tr th:only-of-type {\n",
              "        vertical-align: middle;\n",
              "    }\n",
              "\n",
              "    .dataframe tbody tr th {\n",
              "        vertical-align: top;\n",
              "    }\n",
              "\n",
              "    .dataframe thead th {\n",
              "        text-align: right;\n",
              "    }\n",
              "</style>\n",
              "<table border=\"1\" class=\"dataframe\">\n",
              "  <thead>\n",
              "    <tr style=\"text-align: right;\">\n",
              "      <th></th>\n",
              "      <th>unit_id</th>\n",
              "      <th>time_cycle</th>\n",
              "      <th>op_conditions_1</th>\n",
              "      <th>op_conditions_2</th>\n",
              "      <th>op_conditions_3</th>\n",
              "      <th>sensor_1</th>\n",
              "      <th>sensor_2</th>\n",
              "      <th>sensor_3</th>\n",
              "      <th>sensor_4</th>\n",
              "      <th>sensor_5</th>\n",
              "      <th>...</th>\n",
              "      <th>sensor_12</th>\n",
              "      <th>sensor_13</th>\n",
              "      <th>sensor_14</th>\n",
              "      <th>sensor_15</th>\n",
              "      <th>sensor_16</th>\n",
              "      <th>sensor_17</th>\n",
              "      <th>sensor_18</th>\n",
              "      <th>sensor_19</th>\n",
              "      <th>sensor_20</th>\n",
              "      <th>sensor_21</th>\n",
              "    </tr>\n",
              "  </thead>\n",
              "  <tbody>\n",
              "    <tr>\n",
              "      <th>0</th>\n",
              "      <td>1</td>\n",
              "      <td>1</td>\n",
              "      <td>34.9983</td>\n",
              "      <td>0.8400</td>\n",
              "      <td>100.0</td>\n",
              "      <td>449.44</td>\n",
              "      <td>555.32</td>\n",
              "      <td>1358.61</td>\n",
              "      <td>1137.23</td>\n",
              "      <td>5.48</td>\n",
              "      <td>...</td>\n",
              "      <td>183.06</td>\n",
              "      <td>2387.72</td>\n",
              "      <td>8048.56</td>\n",
              "      <td>9.3461</td>\n",
              "      <td>0.02</td>\n",
              "      <td>334</td>\n",
              "      <td>2223</td>\n",
              "      <td>100.00</td>\n",
              "      <td>14.73</td>\n",
              "      <td>8.8071</td>\n",
              "    </tr>\n",
              "    <tr>\n",
              "      <th>1</th>\n",
              "      <td>1</td>\n",
              "      <td>2</td>\n",
              "      <td>41.9982</td>\n",
              "      <td>0.8408</td>\n",
              "      <td>100.0</td>\n",
              "      <td>445.00</td>\n",
              "      <td>549.90</td>\n",
              "      <td>1353.22</td>\n",
              "      <td>1125.78</td>\n",
              "      <td>3.91</td>\n",
              "      <td>...</td>\n",
              "      <td>130.42</td>\n",
              "      <td>2387.66</td>\n",
              "      <td>8072.30</td>\n",
              "      <td>9.3774</td>\n",
              "      <td>0.02</td>\n",
              "      <td>330</td>\n",
              "      <td>2212</td>\n",
              "      <td>100.00</td>\n",
              "      <td>10.41</td>\n",
              "      <td>6.2665</td>\n",
              "    </tr>\n",
              "    <tr>\n",
              "      <th>2</th>\n",
              "      <td>1</td>\n",
              "      <td>3</td>\n",
              "      <td>24.9988</td>\n",
              "      <td>0.6218</td>\n",
              "      <td>60.0</td>\n",
              "      <td>462.54</td>\n",
              "      <td>537.31</td>\n",
              "      <td>1256.76</td>\n",
              "      <td>1047.45</td>\n",
              "      <td>7.05</td>\n",
              "      <td>...</td>\n",
              "      <td>164.22</td>\n",
              "      <td>2028.03</td>\n",
              "      <td>7864.87</td>\n",
              "      <td>10.8941</td>\n",
              "      <td>0.02</td>\n",
              "      <td>309</td>\n",
              "      <td>1915</td>\n",
              "      <td>84.93</td>\n",
              "      <td>14.08</td>\n",
              "      <td>8.6723</td>\n",
              "    </tr>\n",
              "    <tr>\n",
              "      <th>3</th>\n",
              "      <td>1</td>\n",
              "      <td>4</td>\n",
              "      <td>42.0077</td>\n",
              "      <td>0.8416</td>\n",
              "      <td>100.0</td>\n",
              "      <td>445.00</td>\n",
              "      <td>549.51</td>\n",
              "      <td>1354.03</td>\n",
              "      <td>1126.38</td>\n",
              "      <td>3.91</td>\n",
              "      <td>...</td>\n",
              "      <td>130.72</td>\n",
              "      <td>2387.61</td>\n",
              "      <td>8068.66</td>\n",
              "      <td>9.3528</td>\n",
              "      <td>0.02</td>\n",
              "      <td>329</td>\n",
              "      <td>2212</td>\n",
              "      <td>100.00</td>\n",
              "      <td>10.59</td>\n",
              "      <td>6.4701</td>\n",
              "    </tr>\n",
              "    <tr>\n",
              "      <th>4</th>\n",
              "      <td>1</td>\n",
              "      <td>5</td>\n",
              "      <td>25.0005</td>\n",
              "      <td>0.6203</td>\n",
              "      <td>60.0</td>\n",
              "      <td>462.54</td>\n",
              "      <td>537.07</td>\n",
              "      <td>1257.71</td>\n",
              "      <td>1047.93</td>\n",
              "      <td>7.05</td>\n",
              "      <td>...</td>\n",
              "      <td>164.31</td>\n",
              "      <td>2028.00</td>\n",
              "      <td>7861.23</td>\n",
              "      <td>10.8963</td>\n",
              "      <td>0.02</td>\n",
              "      <td>309</td>\n",
              "      <td>1915</td>\n",
              "      <td>84.93</td>\n",
              "      <td>14.13</td>\n",
              "      <td>8.5286</td>\n",
              "    </tr>\n",
              "  </tbody>\n",
              "</table>\n",
              "<p>5 rows × 26 columns</p>\n",
              "</div>"
            ],
            "text/plain": [
              "   unit_id  time_cycle  op_conditions_1  op_conditions_2  op_conditions_3  \\\n",
              "0        1           1          34.9983           0.8400            100.0   \n",
              "1        1           2          41.9982           0.8408            100.0   \n",
              "2        1           3          24.9988           0.6218             60.0   \n",
              "3        1           4          42.0077           0.8416            100.0   \n",
              "4        1           5          25.0005           0.6203             60.0   \n",
              "\n",
              "   sensor_1  sensor_2  sensor_3  sensor_4  sensor_5  ...  sensor_12  \\\n",
              "0    449.44    555.32   1358.61   1137.23      5.48  ...     183.06   \n",
              "1    445.00    549.90   1353.22   1125.78      3.91  ...     130.42   \n",
              "2    462.54    537.31   1256.76   1047.45      7.05  ...     164.22   \n",
              "3    445.00    549.51   1354.03   1126.38      3.91  ...     130.72   \n",
              "4    462.54    537.07   1257.71   1047.93      7.05  ...     164.31   \n",
              "\n",
              "   sensor_13  sensor_14  sensor_15  sensor_16  sensor_17  sensor_18  \\\n",
              "0    2387.72    8048.56     9.3461       0.02        334       2223   \n",
              "1    2387.66    8072.30     9.3774       0.02        330       2212   \n",
              "2    2028.03    7864.87    10.8941       0.02        309       1915   \n",
              "3    2387.61    8068.66     9.3528       0.02        329       2212   \n",
              "4    2028.00    7861.23    10.8963       0.02        309       1915   \n",
              "\n",
              "   sensor_19  sensor_20  sensor_21  \n",
              "0     100.00      14.73     8.8071  \n",
              "1     100.00      10.41     6.2665  \n",
              "2      84.93      14.08     8.6723  \n",
              "3     100.00      10.59     6.4701  \n",
              "4      84.93      14.13     8.5286  \n",
              "\n",
              "[5 rows x 26 columns]"
            ]
          },
          "execution_count": 3,
          "metadata": {},
          "output_type": "execute_result"
        }
      ],
      "source": [
        "# Import Data - NASA dataset 260 train trajectories, 259 tests and 6 conditions\n",
        "raw_train_df=pd.read_csv('Data/train_FD002.txt',delim_whitespace=True,names=all_col)\n",
        "raw_train_df.head()"
      ]
    },
    {
      "cell_type": "markdown",
      "metadata": {
        "id": "DiKs4NqzrKdR"
      },
      "source": [
        "K-means clustering model.\n",
        "\n",
        "*   Develop a k-means clustering algorithm to find clusters.\n",
        "*   Save model and centroids.\n",
        "\n",
        "*   Use model to predict the cluster every data point belongs to.\n",
        "\n",
        "\n",
        "\n"
      ]
    },
    {
      "cell_type": "code",
      "execution_count": 4,
      "metadata": {
        "colab": {
          "base_uri": "https://localhost:8080/"
        },
        "id": "P8tpR4v-JXPJ",
        "outputId": "b87c62f5-e0ea-44ff-f55a-a55ea5410c36"
      },
      "outputs": [
        {
          "data": {
            "text/plain": [
              "(53759, 3)"
            ]
          },
          "execution_count": 4,
          "metadata": {},
          "output_type": "execute_result"
        }
      ],
      "source": [
        "op_condts = raw_train_df[['op_conditions_1'\t, 'op_conditions_2', 'op_conditions_3']]\n",
        "op_condts.shape"
      ]
    },
    {
      "cell_type": "code",
      "execution_count": 5,
      "metadata": {
        "id": "qEQl5dvWbQR2"
      },
      "outputs": [],
      "source": [
        "# Use K-means to find clusters\n",
        "kmeans = KMeans(n_clusters = 6) # Greedy k-means is used when the n_clusters is not specified, it enables faster convergence\n",
        "kmeans.fit(op_condts)\n",
        "cluster_labels_2 = kmeans.labels_\n",
        "centroids = kmeans.cluster_centers_"
      ]
    },
    {
      "cell_type": "code",
      "execution_count": 6,
      "metadata": {
        "colab": {
          "base_uri": "https://localhost:8080/"
        },
        "id": "4mxv4w1kJ9ZB",
        "outputId": "5d10b634-a797-4b0a-9062-9271f9e26b5f"
      },
      "outputs": [
        {
          "data": {
            "text/plain": [
              "array([[4.20029763e+01, 8.40485184e-01, 1.00000000e+02],\n",
              "       [2.00029990e+01, 7.00515193e-01, 1.00000000e+02],\n",
              "       [2.50030380e+01, 6.20501875e-01, 6.00000000e+01],\n",
              "       [1.50451268e-03, 4.94343610e-04, 1.00000000e+02],\n",
              "       [1.00029713e+01, 2.50495035e-01, 1.00000000e+02],\n",
              "       [3.50030490e+01, 8.40500585e-01, 1.00000000e+02]])"
            ]
          },
          "execution_count": 6,
          "metadata": {},
          "output_type": "execute_result"
        }
      ],
      "source": [
        "centroids"
      ]
    },
    {
      "cell_type": "code",
      "execution_count": 7,
      "metadata": {
        "colab": {
          "base_uri": "https://localhost:8080/"
        },
        "id": "G_CGKt2LK69E",
        "outputId": "a5b78cbc-b09d-480f-dc82-65732f0fe0ca"
      },
      "outputs": [
        {
          "data": {
            "text/plain": [
              "array([5, 0, 2, ..., 2, 2, 5], dtype=int32)"
            ]
          },
          "execution_count": 7,
          "metadata": {},
          "output_type": "execute_result"
        }
      ],
      "source": [
        "cluster_labels_2"
      ]
    },
    {
      "cell_type": "markdown",
      "metadata": {
        "id": "C7clb7BzLA3J"
      },
      "source": [
        "Save Kmeans model"
      ]
    },
    {
      "cell_type": "code",
      "execution_count": 8,
      "metadata": {
        "colab": {
          "base_uri": "https://localhost:8080/"
        },
        "id": "KaI4IqabLAND",
        "outputId": "1b5df268-df28-4b19-bfb1-9f10c6cb7566"
      },
      "outputs": [
        {
          "data": {
            "text/plain": [
              "['kmeans_model']"
            ]
          },
          "execution_count": 8,
          "metadata": {},
          "output_type": "execute_result"
        }
      ],
      "source": [
        "# Save Model Using joblib\n",
        "import joblib\n",
        "# save the model to disk\n",
        "filename = 'kmeans_model'\n",
        "joblib.dump(kmeans, filename)\n"
      ]
    },
    {
      "cell_type": "markdown",
      "metadata": {
        "id": "2GRF1S6AMGUj"
      },
      "source": [
        "Use Model to predict clusters of other NASA datasets"
      ]
    },
    {
      "cell_type": "code",
      "execution_count": 9,
      "metadata": {
        "id": "Boxzt7JQMMoZ"
      },
      "outputs": [],
      "source": [
        "loaded_model = joblib.load('kmeans_model')"
      ]
    },
    {
      "cell_type": "code",
      "execution_count": 10,
      "metadata": {
        "id": "50z1r2RUMF0D"
      },
      "outputs": [
        {
          "name": "stderr",
          "output_type": "stream",
          "text": [
            "/var/folders/gm/pvnntq692jd5ng0rtk5l0z9m0000gn/T/ipykernel_57098/8867955.py:2: FutureWarning: The 'delim_whitespace' keyword in pd.read_csv is deprecated and will be removed in a future version. Use ``sep='\\s+'`` instead\n",
            "  raw_test_df=pd.read_csv('Data/train_FD004.txt',delim_whitespace=True,names=all_col)\n"
          ]
        },
        {
          "data": {
            "text/html": [
              "<div>\n",
              "<style scoped>\n",
              "    .dataframe tbody tr th:only-of-type {\n",
              "        vertical-align: middle;\n",
              "    }\n",
              "\n",
              "    .dataframe tbody tr th {\n",
              "        vertical-align: top;\n",
              "    }\n",
              "\n",
              "    .dataframe thead th {\n",
              "        text-align: right;\n",
              "    }\n",
              "</style>\n",
              "<table border=\"1\" class=\"dataframe\">\n",
              "  <thead>\n",
              "    <tr style=\"text-align: right;\">\n",
              "      <th></th>\n",
              "      <th>unit_id</th>\n",
              "      <th>time_cycle</th>\n",
              "      <th>op_conditions_1</th>\n",
              "      <th>op_conditions_2</th>\n",
              "      <th>op_conditions_3</th>\n",
              "      <th>sensor_1</th>\n",
              "      <th>sensor_2</th>\n",
              "      <th>sensor_3</th>\n",
              "      <th>sensor_4</th>\n",
              "      <th>sensor_5</th>\n",
              "      <th>...</th>\n",
              "      <th>sensor_12</th>\n",
              "      <th>sensor_13</th>\n",
              "      <th>sensor_14</th>\n",
              "      <th>sensor_15</th>\n",
              "      <th>sensor_16</th>\n",
              "      <th>sensor_17</th>\n",
              "      <th>sensor_18</th>\n",
              "      <th>sensor_19</th>\n",
              "      <th>sensor_20</th>\n",
              "      <th>sensor_21</th>\n",
              "    </tr>\n",
              "  </thead>\n",
              "  <tbody>\n",
              "    <tr>\n",
              "      <th>0</th>\n",
              "      <td>1</td>\n",
              "      <td>1</td>\n",
              "      <td>42.0049</td>\n",
              "      <td>0.8400</td>\n",
              "      <td>100.0</td>\n",
              "      <td>445.00</td>\n",
              "      <td>549.68</td>\n",
              "      <td>1343.43</td>\n",
              "      <td>1112.93</td>\n",
              "      <td>3.91</td>\n",
              "      <td>...</td>\n",
              "      <td>129.78</td>\n",
              "      <td>2387.99</td>\n",
              "      <td>8074.83</td>\n",
              "      <td>9.3335</td>\n",
              "      <td>0.02</td>\n",
              "      <td>330</td>\n",
              "      <td>2212</td>\n",
              "      <td>100.00</td>\n",
              "      <td>10.62</td>\n",
              "      <td>6.3670</td>\n",
              "    </tr>\n",
              "    <tr>\n",
              "      <th>1</th>\n",
              "      <td>1</td>\n",
              "      <td>2</td>\n",
              "      <td>20.0020</td>\n",
              "      <td>0.7002</td>\n",
              "      <td>100.0</td>\n",
              "      <td>491.19</td>\n",
              "      <td>606.07</td>\n",
              "      <td>1477.61</td>\n",
              "      <td>1237.50</td>\n",
              "      <td>9.35</td>\n",
              "      <td>...</td>\n",
              "      <td>312.59</td>\n",
              "      <td>2387.73</td>\n",
              "      <td>8046.13</td>\n",
              "      <td>9.1913</td>\n",
              "      <td>0.02</td>\n",
              "      <td>361</td>\n",
              "      <td>2324</td>\n",
              "      <td>100.00</td>\n",
              "      <td>24.37</td>\n",
              "      <td>14.6552</td>\n",
              "    </tr>\n",
              "    <tr>\n",
              "      <th>2</th>\n",
              "      <td>1</td>\n",
              "      <td>3</td>\n",
              "      <td>42.0038</td>\n",
              "      <td>0.8409</td>\n",
              "      <td>100.0</td>\n",
              "      <td>445.00</td>\n",
              "      <td>548.95</td>\n",
              "      <td>1343.12</td>\n",
              "      <td>1117.05</td>\n",
              "      <td>3.91</td>\n",
              "      <td>...</td>\n",
              "      <td>129.62</td>\n",
              "      <td>2387.97</td>\n",
              "      <td>8066.62</td>\n",
              "      <td>9.4007</td>\n",
              "      <td>0.02</td>\n",
              "      <td>329</td>\n",
              "      <td>2212</td>\n",
              "      <td>100.00</td>\n",
              "      <td>10.48</td>\n",
              "      <td>6.4213</td>\n",
              "    </tr>\n",
              "    <tr>\n",
              "      <th>3</th>\n",
              "      <td>1</td>\n",
              "      <td>4</td>\n",
              "      <td>42.0000</td>\n",
              "      <td>0.8400</td>\n",
              "      <td>100.0</td>\n",
              "      <td>445.00</td>\n",
              "      <td>548.70</td>\n",
              "      <td>1341.24</td>\n",
              "      <td>1118.03</td>\n",
              "      <td>3.91</td>\n",
              "      <td>...</td>\n",
              "      <td>129.80</td>\n",
              "      <td>2388.02</td>\n",
              "      <td>8076.05</td>\n",
              "      <td>9.3369</td>\n",
              "      <td>0.02</td>\n",
              "      <td>328</td>\n",
              "      <td>2212</td>\n",
              "      <td>100.00</td>\n",
              "      <td>10.54</td>\n",
              "      <td>6.4176</td>\n",
              "    </tr>\n",
              "    <tr>\n",
              "      <th>4</th>\n",
              "      <td>1</td>\n",
              "      <td>5</td>\n",
              "      <td>25.0063</td>\n",
              "      <td>0.6207</td>\n",
              "      <td>60.0</td>\n",
              "      <td>462.54</td>\n",
              "      <td>536.10</td>\n",
              "      <td>1255.23</td>\n",
              "      <td>1033.59</td>\n",
              "      <td>7.05</td>\n",
              "      <td>...</td>\n",
              "      <td>164.11</td>\n",
              "      <td>2028.08</td>\n",
              "      <td>7865.80</td>\n",
              "      <td>10.8366</td>\n",
              "      <td>0.02</td>\n",
              "      <td>305</td>\n",
              "      <td>1915</td>\n",
              "      <td>84.93</td>\n",
              "      <td>14.03</td>\n",
              "      <td>8.6754</td>\n",
              "    </tr>\n",
              "  </tbody>\n",
              "</table>\n",
              "<p>5 rows × 26 columns</p>\n",
              "</div>"
            ],
            "text/plain": [
              "   unit_id  time_cycle  op_conditions_1  op_conditions_2  op_conditions_3  \\\n",
              "0        1           1          42.0049           0.8400            100.0   \n",
              "1        1           2          20.0020           0.7002            100.0   \n",
              "2        1           3          42.0038           0.8409            100.0   \n",
              "3        1           4          42.0000           0.8400            100.0   \n",
              "4        1           5          25.0063           0.6207             60.0   \n",
              "\n",
              "   sensor_1  sensor_2  sensor_3  sensor_4  sensor_5  ...  sensor_12  \\\n",
              "0    445.00    549.68   1343.43   1112.93      3.91  ...     129.78   \n",
              "1    491.19    606.07   1477.61   1237.50      9.35  ...     312.59   \n",
              "2    445.00    548.95   1343.12   1117.05      3.91  ...     129.62   \n",
              "3    445.00    548.70   1341.24   1118.03      3.91  ...     129.80   \n",
              "4    462.54    536.10   1255.23   1033.59      7.05  ...     164.11   \n",
              "\n",
              "   sensor_13  sensor_14  sensor_15  sensor_16  sensor_17  sensor_18  \\\n",
              "0    2387.99    8074.83     9.3335       0.02        330       2212   \n",
              "1    2387.73    8046.13     9.1913       0.02        361       2324   \n",
              "2    2387.97    8066.62     9.4007       0.02        329       2212   \n",
              "3    2388.02    8076.05     9.3369       0.02        328       2212   \n",
              "4    2028.08    7865.80    10.8366       0.02        305       1915   \n",
              "\n",
              "   sensor_19  sensor_20  sensor_21  \n",
              "0     100.00      10.62     6.3670  \n",
              "1     100.00      24.37    14.6552  \n",
              "2     100.00      10.48     6.4213  \n",
              "3     100.00      10.54     6.4176  \n",
              "4      84.93      14.03     8.6754  \n",
              "\n",
              "[5 rows x 26 columns]"
            ]
          },
          "execution_count": 10,
          "metadata": {},
          "output_type": "execute_result"
        }
      ],
      "source": [
        "# Import Data - NASA dataset 260 train trajectories, 259 tests and 6 conditions\n",
        "raw_test_df=pd.read_csv('Data/train_FD004.txt',delim_whitespace=True,names=all_col)\n",
        "raw_test_df.head()"
      ]
    },
    {
      "cell_type": "code",
      "execution_count": 11,
      "metadata": {
        "id": "XuB8tAAQMpiE"
      },
      "outputs": [
        {
          "name": "stdout",
          "output_type": "stream",
          "text": [
            "(61249,)\n"
          ]
        }
      ],
      "source": [
        "op_condts = raw_test_df[['op_conditions_1'\t, 'op_conditions_2', 'op_conditions_3']]\n",
        "cluster_labels = loaded_model.predict(op_condts)\n",
        "print(cluster_labels.shape)"
      ]
    },
    {
      "cell_type": "code",
      "execution_count": 12,
      "metadata": {
        "colab": {
          "base_uri": "https://localhost:8080/"
        },
        "id": "g0yTLhBkNFy0",
        "outputId": "eb11897f-e370-462d-c380-3b0a3d9e9c59"
      },
      "outputs": [
        {
          "data": {
            "text/plain": [
              "array([0, 1, 2, 3, 4, 5], dtype=int32)"
            ]
          },
          "execution_count": 12,
          "metadata": {},
          "output_type": "execute_result"
        }
      ],
      "source": [
        "np.unique(cluster_labels)"
      ]
    }
  ],
  "metadata": {
    "colab": {
      "provenance": []
    },
    "kernelspec": {
      "display_name": "Python 3",
      "name": "python3"
    },
    "language_info": {
      "codemirror_mode": {
        "name": "ipython",
        "version": 3
      },
      "file_extension": ".py",
      "mimetype": "text/x-python",
      "name": "python",
      "nbconvert_exporter": "python",
      "pygments_lexer": "ipython3",
      "version": "3.11.5"
    }
  },
  "nbformat": 4,
  "nbformat_minor": 0
}
